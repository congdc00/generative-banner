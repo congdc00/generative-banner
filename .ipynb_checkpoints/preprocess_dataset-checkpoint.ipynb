{
 "cells": [
  {
   "cell_type": "code",
   "execution_count": 109,
   "id": "7a41221e-dbff-41ac-a719-c566162fc6ff",
   "metadata": {},
   "outputs": [
    {
     "name": "stderr",
     "output_type": "stream",
     "text": [
      "huggingface/tokenizers: The current process just got forked, after parallelism has already been used. Disabling parallelism to avoid deadlocks...\n",
      "To disable this warning, you can either:\n",
      "\t- Avoid using `tokenizers` before the fork if possible\n",
      "\t- Explicitly set the environment variable TOKENIZERS_PARALLELISM=(true | false)\n"
     ]
    },
    {
     "name": "stdout",
     "output_type": "stream",
     "text": [
      "Collecting en-core-web-sm==3.7.1\n",
      "  Downloading https://github.com/explosion/spacy-models/releases/download/en_core_web_sm-3.7.1/en_core_web_sm-3.7.1-py3-none-any.whl (12.8 MB)\n",
      "\u001b[2K     \u001b[38;2;114;156;31m━━━━━━━━━━━━━━━━━━━━━━━━━━━━━━━━━━━━━━━━\u001b[0m \u001b[32m12.8/12.8 MB\u001b[0m \u001b[31m8.0 MB/s\u001b[0m eta \u001b[36m0:00:00\u001b[0mm eta \u001b[36m0:00:01\u001b[0m0:01\u001b[0m:01\u001b[0m\n",
      "\u001b[?25hRequirement already satisfied: spacy<3.8.0,>=3.7.2 in /home/congdc/hdd/.environment/miniconda3/envs/zalo-ai/lib/python3.10/site-packages (from en-core-web-sm==3.7.1) (3.7.2)\n",
      "Requirement already satisfied: spacy-legacy<3.1.0,>=3.0.11 in /home/congdc/hdd/.environment/miniconda3/envs/zalo-ai/lib/python3.10/site-packages (from spacy<3.8.0,>=3.7.2->en-core-web-sm==3.7.1) (3.0.12)\n",
      "Requirement already satisfied: spacy-loggers<2.0.0,>=1.0.0 in /home/congdc/hdd/.environment/miniconda3/envs/zalo-ai/lib/python3.10/site-packages (from spacy<3.8.0,>=3.7.2->en-core-web-sm==3.7.1) (1.0.5)\n",
      "Requirement already satisfied: murmurhash<1.1.0,>=0.28.0 in /home/congdc/hdd/.environment/miniconda3/envs/zalo-ai/lib/python3.10/site-packages (from spacy<3.8.0,>=3.7.2->en-core-web-sm==3.7.1) (1.0.10)\n",
      "Requirement already satisfied: cymem<2.1.0,>=2.0.2 in /home/congdc/hdd/.environment/miniconda3/envs/zalo-ai/lib/python3.10/site-packages (from spacy<3.8.0,>=3.7.2->en-core-web-sm==3.7.1) (2.0.8)\n",
      "Requirement already satisfied: preshed<3.1.0,>=3.0.2 in /home/congdc/hdd/.environment/miniconda3/envs/zalo-ai/lib/python3.10/site-packages (from spacy<3.8.0,>=3.7.2->en-core-web-sm==3.7.1) (3.0.9)\n",
      "Requirement already satisfied: thinc<8.3.0,>=8.1.8 in /home/congdc/hdd/.environment/miniconda3/envs/zalo-ai/lib/python3.10/site-packages (from spacy<3.8.0,>=3.7.2->en-core-web-sm==3.7.1) (8.2.1)\n",
      "Requirement already satisfied: wasabi<1.2.0,>=0.9.1 in /home/congdc/hdd/.environment/miniconda3/envs/zalo-ai/lib/python3.10/site-packages (from spacy<3.8.0,>=3.7.2->en-core-web-sm==3.7.1) (1.1.2)\n",
      "Requirement already satisfied: srsly<3.0.0,>=2.4.3 in /home/congdc/hdd/.environment/miniconda3/envs/zalo-ai/lib/python3.10/site-packages (from spacy<3.8.0,>=3.7.2->en-core-web-sm==3.7.1) (2.4.8)\n",
      "Requirement already satisfied: catalogue<2.1.0,>=2.0.6 in /home/congdc/hdd/.environment/miniconda3/envs/zalo-ai/lib/python3.10/site-packages (from spacy<3.8.0,>=3.7.2->en-core-web-sm==3.7.1) (2.0.10)\n",
      "Requirement already satisfied: weasel<0.4.0,>=0.1.0 in /home/congdc/hdd/.environment/miniconda3/envs/zalo-ai/lib/python3.10/site-packages (from spacy<3.8.0,>=3.7.2->en-core-web-sm==3.7.1) (0.3.4)\n",
      "Requirement already satisfied: typer<0.10.0,>=0.3.0 in /home/congdc/hdd/.environment/miniconda3/envs/zalo-ai/lib/python3.10/site-packages (from spacy<3.8.0,>=3.7.2->en-core-web-sm==3.7.1) (0.9.0)\n",
      "Requirement already satisfied: smart-open<7.0.0,>=5.2.1 in /home/congdc/hdd/.environment/miniconda3/envs/zalo-ai/lib/python3.10/site-packages (from spacy<3.8.0,>=3.7.2->en-core-web-sm==3.7.1) (6.4.0)\n",
      "Requirement already satisfied: tqdm<5.0.0,>=4.38.0 in /home/congdc/hdd/.environment/miniconda3/envs/zalo-ai/lib/python3.10/site-packages (from spacy<3.8.0,>=3.7.2->en-core-web-sm==3.7.1) (4.66.1)\n",
      "Requirement already satisfied: requests<3.0.0,>=2.13.0 in /home/congdc/hdd/.environment/miniconda3/envs/zalo-ai/lib/python3.10/site-packages (from spacy<3.8.0,>=3.7.2->en-core-web-sm==3.7.1) (2.31.0)\n",
      "Requirement already satisfied: pydantic!=1.8,!=1.8.1,<3.0.0,>=1.7.4 in /home/congdc/hdd/.environment/miniconda3/envs/zalo-ai/lib/python3.10/site-packages (from spacy<3.8.0,>=3.7.2->en-core-web-sm==3.7.1) (2.5.2)\n",
      "Requirement already satisfied: jinja2 in /home/congdc/hdd/.environment/miniconda3/envs/zalo-ai/lib/python3.10/site-packages (from spacy<3.8.0,>=3.7.2->en-core-web-sm==3.7.1) (3.1.2)\n",
      "Requirement already satisfied: setuptools in /home/congdc/hdd/.environment/miniconda3/envs/zalo-ai/lib/python3.10/site-packages (from spacy<3.8.0,>=3.7.2->en-core-web-sm==3.7.1) (68.0.0)\n",
      "Requirement already satisfied: packaging>=20.0 in /home/congdc/hdd/.environment/miniconda3/envs/zalo-ai/lib/python3.10/site-packages (from spacy<3.8.0,>=3.7.2->en-core-web-sm==3.7.1) (23.2)\n",
      "Requirement already satisfied: langcodes<4.0.0,>=3.2.0 in /home/congdc/hdd/.environment/miniconda3/envs/zalo-ai/lib/python3.10/site-packages (from spacy<3.8.0,>=3.7.2->en-core-web-sm==3.7.1) (3.3.0)\n",
      "Requirement already satisfied: numpy>=1.19.0 in /home/congdc/hdd/.environment/miniconda3/envs/zalo-ai/lib/python3.10/site-packages (from spacy<3.8.0,>=3.7.2->en-core-web-sm==3.7.1) (1.24.3)\n",
      "Requirement already satisfied: annotated-types>=0.4.0 in /home/congdc/hdd/.environment/miniconda3/envs/zalo-ai/lib/python3.10/site-packages (from pydantic!=1.8,!=1.8.1,<3.0.0,>=1.7.4->spacy<3.8.0,>=3.7.2->en-core-web-sm==3.7.1) (0.6.0)\n",
      "Requirement already satisfied: pydantic-core==2.14.5 in /home/congdc/hdd/.environment/miniconda3/envs/zalo-ai/lib/python3.10/site-packages (from pydantic!=1.8,!=1.8.1,<3.0.0,>=1.7.4->spacy<3.8.0,>=3.7.2->en-core-web-sm==3.7.1) (2.14.5)\n",
      "Requirement already satisfied: typing-extensions>=4.6.1 in /home/congdc/hdd/.environment/miniconda3/envs/zalo-ai/lib/python3.10/site-packages (from pydantic!=1.8,!=1.8.1,<3.0.0,>=1.7.4->spacy<3.8.0,>=3.7.2->en-core-web-sm==3.7.1) (4.7.1)\n",
      "Requirement already satisfied: charset-normalizer<4,>=2 in /home/congdc/hdd/.environment/miniconda3/envs/zalo-ai/lib/python3.10/site-packages (from requests<3.0.0,>=2.13.0->spacy<3.8.0,>=3.7.2->en-core-web-sm==3.7.1) (2.0.4)\n",
      "Requirement already satisfied: idna<4,>=2.5 in /home/congdc/hdd/.environment/miniconda3/envs/zalo-ai/lib/python3.10/site-packages (from requests<3.0.0,>=2.13.0->spacy<3.8.0,>=3.7.2->en-core-web-sm==3.7.1) (3.4)\n",
      "Requirement already satisfied: urllib3<3,>=1.21.1 in /home/congdc/hdd/.environment/miniconda3/envs/zalo-ai/lib/python3.10/site-packages (from requests<3.0.0,>=2.13.0->spacy<3.8.0,>=3.7.2->en-core-web-sm==3.7.1) (1.26.18)\n",
      "Requirement already satisfied: certifi>=2017.4.17 in /home/congdc/hdd/.environment/miniconda3/envs/zalo-ai/lib/python3.10/site-packages (from requests<3.0.0,>=2.13.0->spacy<3.8.0,>=3.7.2->en-core-web-sm==3.7.1) (2023.11.17)\n",
      "Requirement already satisfied: blis<0.8.0,>=0.7.8 in /home/congdc/hdd/.environment/miniconda3/envs/zalo-ai/lib/python3.10/site-packages (from thinc<8.3.0,>=8.1.8->spacy<3.8.0,>=3.7.2->en-core-web-sm==3.7.1) (0.7.11)\n",
      "Requirement already satisfied: confection<1.0.0,>=0.0.1 in /home/congdc/hdd/.environment/miniconda3/envs/zalo-ai/lib/python3.10/site-packages (from thinc<8.3.0,>=8.1.8->spacy<3.8.0,>=3.7.2->en-core-web-sm==3.7.1) (0.1.4)\n",
      "Requirement already satisfied: click<9.0.0,>=7.1.1 in /home/congdc/hdd/.environment/miniconda3/envs/zalo-ai/lib/python3.10/site-packages (from typer<0.10.0,>=0.3.0->spacy<3.8.0,>=3.7.2->en-core-web-sm==3.7.1) (8.1.7)\n",
      "Requirement already satisfied: cloudpathlib<0.17.0,>=0.7.0 in /home/congdc/hdd/.environment/miniconda3/envs/zalo-ai/lib/python3.10/site-packages (from weasel<0.4.0,>=0.1.0->spacy<3.8.0,>=3.7.2->en-core-web-sm==3.7.1) (0.16.0)\n",
      "Requirement already satisfied: MarkupSafe>=2.0 in /home/congdc/hdd/.environment/miniconda3/envs/zalo-ai/lib/python3.10/site-packages (from jinja2->spacy<3.8.0,>=3.7.2->en-core-web-sm==3.7.1) (2.1.1)\n",
      "Installing collected packages: en-core-web-sm\n",
      "Successfully installed en-core-web-sm-3.7.1\n",
      "\u001b[38;5;2m✔ Download and installation successful\u001b[0m\n",
      "You can now load the package via spacy.load('en_core_web_sm')\n"
     ]
    }
   ],
   "source": [
    "!python -m spacy download en_core_web_sm"
   ]
  },
  {
   "cell_type": "code",
   "execution_count": 114,
   "id": "e380577a-e9f4-44bb-9a57-ee666263e2e6",
   "metadata": {},
   "outputs": [],
   "source": [
    "import os\n",
    "os.chdir(\"/home/congdc/Project/generative-banner\")"
   ]
  },
  {
   "cell_type": "code",
   "execution_count": 115,
   "id": "642a5161-403d-4bcf-bb2d-cce0cbc3b30d",
   "metadata": {},
   "outputs": [],
   "source": [
    "from PIL import Image\n",
    "import numpy as np\n",
    "import cv2\n",
    "from utils.translate import Translater\n",
    "import pandas as pd\n",
    "from core.stable_diffusion import SD_Model\n",
    "import re\n",
    "from collections import Counter\n",
    "import nltk\n",
    "import underthesea\n",
    "from sklearn.feature_extraction.text import TfidfVectorizer\n",
    "from tqdm import tqdm\n",
    "import shutil\n",
    "import transformers\n",
    "import spacy\n",
    "DEVICE = \"cuda\""
   ]
  },
  {
   "cell_type": "code",
   "execution_count": 116,
   "id": "3f0d0abd-51b6-4bca-ad2c-3cc036209b6f",
   "metadata": {},
   "outputs": [],
   "source": [
    "TRAIN_PATH  = \"./data/train/target/\"\n",
    "INPUT_IMAGES = \"./data/train/target/images_hd/\"\n",
    "OUTPUT_IMAGES = \"./data/train/target/images_train/\""
   ]
  },
  {
   "cell_type": "code",
   "execution_count": 117,
   "id": "7f2369d0-f02c-4e0f-abc9-1665f28def76",
   "metadata": {},
   "outputs": [],
   "source": [
    "df_train = pd.read_csv(f\"{TRAIN_PATH}info.csv\")\n",
    "id_imgs_train = list(df_train[\"id\"])\n",
    "captions_train = list(df_train['caption'])\n",
    "description_train = list(df_train['description'])\n",
    "moreInfo_train = list(df_train['moreInfo'])\n",
    "bannerImages_train = list(df_train['bannerImage'])"
   ]
  },
  {
   "cell_type": "code",
   "execution_count": 141,
   "id": "e101e32e-b0a8-4fe8-a5dc-4d3a4112a0a4",
   "metadata": {},
   "outputs": [],
   "source": [
    "def clear_data(list_sentence):\n",
    "    list_result = []\n",
    "    for sentence in tqdm(list_sentence):\n",
    "        sentence = str(sentence).lower()\n",
    "        sentence = re.sub(r'[.\\-\\/]', ' ', sentence)\n",
    "        list_result.append(sentence)\n",
    "    return list_result"
   ]
  },
  {
   "cell_type": "code",
   "execution_count": 124,
   "id": "2fa94965-e732-4efb-b29b-25d2a67fb1e5",
   "metadata": {},
   "outputs": [],
   "source": [
    "def v2e(captions):\n",
    "    list_result = []\n",
    "    for idx, caption in tqdm(enumerate(captions)):\n",
    "        new_caption = Translater.vie2eng(caption)\n",
    "        \n",
    "        list_result.append(new_caption)\n",
    "\n",
    "    return list_result"
   ]
  },
  {
   "cell_type": "code",
   "execution_count": 125,
   "id": "4fdde8c8-6b4f-4284-a533-9003a7b4e598",
   "metadata": {},
   "outputs": [],
   "source": [
    "def gen_promt(source1, source2=\"\", source3=\"\"):\n",
    "    nlp = spacy.load(\"en_core_web_sm\")\n",
    "    "
   ]
  },
  {
   "cell_type": "code",
   "execution_count": 126,
   "id": "072de57a-ba57-4ef1-8dbc-c2feade9bbb1",
   "metadata": {},
   "outputs": [],
   "source": [
    "def save_images(name_imgs, list_promt):\n",
    "    for name_img, promt in tqdm(zip(name_imgs, list_promt)):\n",
    "        promt = promt.lower()\n",
    "        \n",
    "        name_img = name_img.replace('.', '_out.')\n",
    "        input_image = f\"{INPUT_IMAGES}{name_img}\"\n",
    "        output_image = input_image.replace(name_img, f\"{promt}.jpg\").replace(INPUT_IMAGES, OUTPUT_IMAGES)\n",
    "        try:\n",
    "            shutil.copy(input_image, output_image)\n",
    "        except:\n",
    "            pass"
   ]
  },
  {
   "cell_type": "markdown",
   "id": "a2486ebb-63c0-49fb-9ee2-0e204440ebc3",
   "metadata": {},
   "source": [
    "# Xử lý dữ liệu"
   ]
  },
  {
   "cell_type": "markdown",
   "id": "4a2dc09d-10d6-4462-b80e-66fa02a39ac5",
   "metadata": {},
   "source": [
    "1. Làm sạch dữ liệu tiếng việt"
   ]
  },
  {
   "cell_type": "code",
   "execution_count": 138,
   "id": "db459022-c124-4260-9150-00c407081532",
   "metadata": {},
   "outputs": [
    {
     "name": "stderr",
     "output_type": "stream",
     "text": [
      "100%|████████████████████████████████████████████████████████████████████████████████████████████████████████████████████████████████████████████████████████████████| 1362/1362 [00:00<00:00, 105854.36it/s]\n",
      "100%|████████████████████████████████████████████████████████████████████████████████████████████████████████████████████████████████████████████████████████████████| 1362/1362 [00:00<00:00, 211133.61it/s]\n",
      "100%|████████████████████████████████████████████████████████████████████████████████████████████████████████████████████████████████████████████████████████████████| 1362/1362 [00:00<00:00, 650420.36it/s]\n"
     ]
    }
   ],
   "source": [
    "captions_train = clear_data(captions_train)\n",
    "description_train = clear_data(description_train)\n",
    "moreInfo_train = clear_data(moreInfo_train)"
   ]
  },
  {
   "cell_type": "markdown",
   "id": "54fcb069-c06f-48ee-8616-1f441fb46cbe",
   "metadata": {},
   "source": [
    "2. Chuyển đổi ngôn ngữ"
   ]
  },
  {
   "cell_type": "code",
   "execution_count": 128,
   "id": "bbe0942f-5426-48fb-8b60-6595bce0bc5d",
   "metadata": {},
   "outputs": [
    {
     "name": "stderr",
     "output_type": "stream",
     "text": [
      "1362it [02:58,  7.65it/s]\n",
      "1362it [01:17, 17.68it/s]\n",
      "1362it [01:24, 16.14it/s]\n"
     ]
    }
   ],
   "source": [
    "captions_train = v2e(captions_train)\n",
    "# description_train = v2e(description_train)\n",
    "# moreInfo_train = v2e(moreInfo_train)"
   ]
  },
  {
   "cell_type": "markdown",
   "id": "634b5f82-9beb-42c5-a2cf-12c6318c8acb",
   "metadata": {},
   "source": [
    "3. Gen promt"
   ]
  },
  {
   "cell_type": "code",
   "execution_count": 142,
   "id": "d997a8e7-c4d8-4a21-857a-68521144b7bb",
   "metadata": {},
   "outputs": [],
   "source": [
    "nlp = spacy.load(\"en_core_web_sm\")\n",
    "tokens = nlp(captions_train[2])"
   ]
  },
  {
   "cell_type": "code",
   "execution_count": 143,
   "id": "770062f8-0374-420a-b32b-794dffe603ca",
   "metadata": {},
   "outputs": [
    {
     "name": "stdout",
     "output_type": "stream",
     "text": [
      "enhance the chic elegance of your lovely driver with high end car floor mats\n",
      "enhance VERB ROOT\n",
      "the DET det\n",
      "chic ADJ amod\n",
      "elegance NOUN dobj\n",
      "of ADP prep\n",
      "your PRON poss\n",
      "lovely ADJ amod\n",
      "driver NOUN pobj\n",
      "with ADP prep\n",
      "high ADJ amod\n",
      "end NOUN compound\n",
      "car NOUN compound\n",
      "floor NOUN compound\n",
      "mats NOUN pobj\n"
     ]
    }
   ],
   "source": [
    "print(tokens.text)\n",
    "for token in tokens:\n",
    "    print(token.text, token.pos_, token.dep_)"
   ]
  },
  {
   "cell_type": "markdown",
   "id": "ea965d98-8424-4f79-9802-045d7e47eb91",
   "metadata": {},
   "source": [
    "# Lưu kết quả"
   ]
  },
  {
   "cell_type": "code",
   "execution_count": 90,
   "id": "5210b1e1-4ae2-41b6-a53d-11d49e54c8fd",
   "metadata": {},
   "outputs": [
    {
     "name": "stderr",
     "output_type": "stream",
     "text": [
      "1362it [00:00, 7236.90it/s]\n"
     ]
    }
   ],
   "source": [
    "save_images(bannerImages_train, list_promt)"
   ]
  },
  {
   "cell_type": "code",
   "execution_count": null,
   "id": "302dc6cd-3aa7-420a-9db1-23d7f08c7560",
   "metadata": {},
   "outputs": [],
   "source": []
  },
  {
   "cell_type": "code",
   "execution_count": null,
   "id": "fa7c4221-2d61-4c65-9897-7ddaed6429c7",
   "metadata": {},
   "outputs": [],
   "source": []
  }
 ],
 "metadata": {
  "kernelspec": {
   "display_name": "Python 3 (ipykernel)",
   "language": "python",
   "name": "python3"
  },
  "language_info": {
   "codemirror_mode": {
    "name": "ipython",
    "version": 3
   },
   "file_extension": ".py",
   "mimetype": "text/x-python",
   "name": "python",
   "nbconvert_exporter": "python",
   "pygments_lexer": "ipython3",
   "version": "3.10.0"
  }
 },
 "nbformat": 4,
 "nbformat_minor": 5
}
