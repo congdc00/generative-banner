{
 "cells": [
  {
   "cell_type": "code",
   "execution_count": 1,
   "id": "7a41221e-dbff-41ac-a719-c566162fc6ff",
   "metadata": {},
   "outputs": [],
   "source": [
    "# !python -m spacy download en_core_web_sm"
   ]
  },
  {
   "cell_type": "code",
   "execution_count": 2,
   "id": "e380577a-e9f4-44bb-9a57-ee666263e2e6",
   "metadata": {},
   "outputs": [],
   "source": [
    "import os\n",
    "os.chdir(\"/home/congdc/hdd/Project/generative-banner\")"
   ]
  },
  {
   "cell_type": "code",
   "execution_count": 3,
   "id": "642a5161-403d-4bcf-bb2d-cce0cbc3b30d",
   "metadata": {},
   "outputs": [],
   "source": [
    "from PIL import Image\n",
    "import numpy as np\n",
    "import cv2\n",
    "import pandas as pd\n",
    "import re\n",
    "from collections import Counter\n",
    "import nltk\n",
    "import underthesea\n",
    "from sklearn.feature_extraction.text import TfidfVectorizer\n",
    "from tqdm import tqdm\n",
    "import shutil\n",
    "import transformers\n",
    "import spacy\n",
    "\n",
    "from preprocessing.preprocess import clean_text, translater, gen_prompt\n",
    "DEVICE = \"cuda\""
   ]
  },
  {
   "cell_type": "code",
   "execution_count": 4,
   "id": "3f0d0abd-51b6-4bca-ad2c-3cc036209b6f",
   "metadata": {},
   "outputs": [],
   "source": [
    "TRAIN_PATH  = \"/data/train/\"\n",
    "INPUT_IMAGES = \"/data/processed/images_enhance/\"\n",
    "OUTPUT_IMAGES = \"/data/processed/images_train/\""
   ]
  },
  {
   "cell_type": "code",
   "execution_count": 5,
   "id": "7f2369d0-f02c-4e0f-abc9-1665f28def76",
   "metadata": {},
   "outputs": [],
   "source": [
    "df = pd.read_csv(f\"{TRAIN_PATH}info.csv\")\n",
    "\n",
    "captions = list(df['caption'])\n",
    "description = list(df['description'])\n",
    "moreInfo = list(df['moreInfo'])\n",
    "\n",
    "list_info = zip(captions, description, moreInfo)\n",
    "bannerImage = list(df['bannerImage'])"
   ]
  },
  {
   "cell_type": "markdown",
   "id": "a2486ebb-63c0-49fb-9ee2-0e204440ebc3",
   "metadata": {},
   "source": [
    "# Xử lý dữ liệu"
   ]
  },
  {
   "cell_type": "markdown",
   "id": "4a2dc09d-10d6-4462-b80e-66fa02a39ac5",
   "metadata": {},
   "source": [
    "1. Làm sạch dữ liệu tiếng việt"
   ]
  },
  {
   "cell_type": "code",
   "execution_count": 6,
   "id": "db459022-c124-4260-9150-00c407081532",
   "metadata": {},
   "outputs": [
    {
     "name": "stderr",
     "output_type": "stream",
     "text": [
      "1362it [00:00, 522561.48it/s]\n"
     ]
    }
   ],
   "source": [
    "list_promt_1 = []\n",
    "for info in tqdm(list_info):\n",
    "    cap, desc, m_info = info\n",
    "    promt_clean = clean_text(cap)\n",
    "    list_promt_1.append(promt_clean)"
   ]
  },
  {
   "cell_type": "code",
   "execution_count": 8,
   "id": "c2695d8f-d874-430b-84c6-fa4e73f1109c",
   "metadata": {},
   "outputs": [
    {
     "data": {
      "text/plain": [
       "['áo phủ xe 3 lớp tráng nhôm cách nhiệt, chống thấm nước, bảo vệ xe khỏi lo bẻ trộm gương ',\n",
       " 'mẫu thảm lót sàn mới nhất cho các dòng xe từ 4   7 chỗ  sang trọng, bền đẹp, giảm ồn ',\n",
       " 'tăng độ sang trọng, lịch lãm của xế yêu  với thảm trải sàn ô tô cao cấp 6d ',\n",
       " 'bán lỗ toàn bộ thảm sàn ô tô cao cấp 6d cho xe 5 7 24 chỗ  sạch sang, chống nước, chống ồn',\n",
       " 'bạt phủ xe 3 lớp, chống nắng nóng bụi bẩn, chống nước, chống xước xe, bảo vệ xe toàn diện']"
      ]
     },
     "execution_count": 8,
     "metadata": {},
     "output_type": "execute_result"
    }
   ],
   "source": [
    "list_promt_1[:5]"
   ]
  },
  {
   "cell_type": "markdown",
   "id": "54fcb069-c06f-48ee-8616-1f441fb46cbe",
   "metadata": {},
   "source": [
    "2. Chuyển đổi ngôn ngữ"
   ]
  },
  {
   "cell_type": "code",
   "execution_count": 10,
   "id": "bbe0942f-5426-48fb-8b60-6595bce0bc5d",
   "metadata": {},
   "outputs": [
    {
     "name": "stderr",
     "output_type": "stream",
     "text": [
      "100%|█████████████████████████████████████████████████████████████████████████████████████████████████████████████████████████████████████████| 1362/1362 [02:58<00:00,  7.62it/s]\n"
     ]
    }
   ],
   "source": [
    "list_promt_2 = []\n",
    "for promt in tqdm(list_promt_1):\n",
    "    promt_eng = translater(promt)\n",
    "    list_promt_2.append(promt_eng)"
   ]
  },
  {
   "cell_type": "code",
   "execution_count": 12,
   "id": "f5ae284f-12c8-4467-86ec-16eaf31e195a",
   "metadata": {},
   "outputs": [
    {
     "data": {
      "text/plain": [
       "['3-ply aluminum-coated car hoods, heat-resistant, waterproof, protecting the car from the risk of stealing mirrors.',\n",
       " 'The latest floor mats for four-seven-seven cars, luxurious, durable, noise-reducing...',\n",
       " 'enhance the chic elegance of your car with high-end car carpeting 6d ',\n",
       " 'All-purpose high-end car floor carpets 6d for 5 7 24 seats, clean, water-resistant, noise-resistant.',\n",
       " '3-layer canvas, heat, dirt, water, scratch protection, full coverage']"
      ]
     },
     "execution_count": 12,
     "metadata": {},
     "output_type": "execute_result"
    }
   ],
   "source": [
    "list_promt_2[:5]"
   ]
  },
  {
   "cell_type": "markdown",
   "id": "634b5f82-9beb-42c5-a2cf-12c6318c8acb",
   "metadata": {},
   "source": [
    "3. Gen promt"
   ]
  },
  {
   "cell_type": "code",
   "execution_count": 13,
   "id": "ed7f839f-6854-4c0d-8293-354da41a3af6",
   "metadata": {},
   "outputs": [
    {
     "name": "stderr",
     "output_type": "stream",
     "text": [
      "100%|██████████████████████████████████████████████████████████████████████████████████████████████████████████████████████████████████████| 1362/1362 [00:00<00:00, 49068.83it/s]\n"
     ]
    }
   ],
   "source": [
    "list_promt_3 = []\n",
    "for promt in tqdm(list_promt_2):\n",
    "    promt = gen_prompt(promt)\n",
    "    list_promt_3.append(promt)"
   ]
  },
  {
   "cell_type": "code",
   "execution_count": 16,
   "id": "bfb458fd-0f6c-4b66-a3ba-f51a4b5f8c6e",
   "metadata": {},
   "outputs": [
    {
     "name": "stdout",
     "output_type": "stream",
     "text": [
      "line 0: x ply aluminum coated car hoods, heat resistant, waterproof, protecting the car from the risk of stealing mirrors\n",
      "line 1: the latest floor mats for four seven cars, luxurious, durable, noise reducing\n",
      "line 2: enhance the chic elegance of your car with high end car carpeting x \n",
      "line 3: all purpose high end car floor carpets x for x x seats, clean, water resistant, noise resistant\n",
      "line 4: x layer canvas, heat, dirt, water, scratch protection, full coverage\n"
     ]
    }
   ],
   "source": [
    "for i, promt in enumerate(list_promt_3[:5]):\n",
    "    print(f\"line {i}: {promt}\")"
   ]
  },
  {
   "cell_type": "markdown",
   "id": "ea965d98-8424-4f79-9802-045d7e47eb91",
   "metadata": {},
   "source": [
    "# Lưu kết quả"
   ]
  },
  {
   "cell_type": "code",
   "execution_count": null,
   "id": "1a974424-2eef-4cc9-830a-f272f7893949",
   "metadata": {},
   "outputs": [],
   "source": [
    "def save_images(name_imgs, list_promt):\n",
    "    for name_img, promt in tqdm(zip(name_imgs, list_promt)):\n",
    "        promt = promt.lower()\n",
    "        \n",
    "        name_img = name_img.replace('.', '_out.')\n",
    "        input_image = f\"{INPUT_IMAGES}{name_img}\"\n",
    "        output_image = input_image.replace(name_img, f\"{promt}.jpg\").replace(INPUT_IMAGES, OUTPUT_IMAGES)\n",
    "        try:\n",
    "            shutil.copy(input_image, output_image)\n",
    "        except:\n",
    "            pass"
   ]
  },
  {
   "cell_type": "code",
   "execution_count": null,
   "id": "5210b1e1-4ae2-41b6-a53d-11d49e54c8fd",
   "metadata": {},
   "outputs": [],
   "source": [
    "save_images(bannerImages_train, list_promt)"
   ]
  },
  {
   "cell_type": "markdown",
   "id": "f0a0fd38-2ef9-47b4-9b39-899f4a5e040f",
   "metadata": {},
   "source": [
    "test"
   ]
  },
  {
   "cell_type": "code",
   "execution_count": null,
   "id": "fa7c4221-2d61-4c65-9897-7ddaed6429c7",
   "metadata": {},
   "outputs": [],
   "source": [
    "from transformers import AutoTokenizer, AutoModelForTokenClassification\n",
    "from transformers import pipeline\n",
    "\n",
    "tokenizer = AutoTokenizer.from_pretrained(\"NlpHUST/ner-vietnamese-electra-base\")\n",
    "model = AutoModelForTokenClassification.from_pretrained(\"NlpHUST/ner-vietnamese-electra-base\")\n",
    "\n",
    "nlp = pipeline(\"ner\", model=model, tokenizer=tokenizer)\n",
    "example = \"Liên quan vụ việc CSGT bị tố đánh dân, trúng một cháu nhỏ đang ngủ, đang lan truyền trên mạng xã hội, Đại tá Nguyễn Văn Tảo, Phó Giám đốc Công an tỉnh Tiền Giang vừa có cuộc họp cùng Chỉ huy Công an huyện Châu Thành và một số đơn vị nghiệp vụ cấp tỉnh để chỉ đạo làm rõ thông tin.\"\n",
    "\n",
    "ner_results = nlp(example)\n",
    "print(ner_results)"
   ]
  },
  {
   "cell_type": "code",
   "execution_count": null,
   "id": "aebabb0c-7cb4-4cb7-adc2-c36389668c2f",
   "metadata": {},
   "outputs": [],
   "source": [
    "# nlp = spacy.load(\"en_core_web_sm\")"
   ]
  }
 ],
 "metadata": {
  "kernelspec": {
   "display_name": "Python 3 (ipykernel)",
   "language": "python",
   "name": "python3"
  },
  "language_info": {
   "codemirror_mode": {
    "name": "ipython",
    "version": 3
   },
   "file_extension": ".py",
   "mimetype": "text/x-python",
   "name": "python",
   "nbconvert_exporter": "python",
   "pygments_lexer": "ipython3",
   "version": "3.10.0"
  }
 },
 "nbformat": 4,
 "nbformat_minor": 5
}
