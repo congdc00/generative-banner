{
 "cells": [
  {
   "cell_type": "code",
   "execution_count": 1,
   "id": "7a41221e-dbff-41ac-a719-c566162fc6ff",
   "metadata": {},
   "outputs": [],
   "source": [
    "# !python -m spacy download en_core_web_sm"
   ]
  },
  {
   "cell_type": "code",
   "execution_count": 1,
   "id": "e380577a-e9f4-44bb-9a57-ee666263e2e6",
   "metadata": {},
   "outputs": [],
   "source": [
    "import os\n",
    "os.chdir(\"/home/congdc/hdd/Project/generative-banner\")"
   ]
  },
  {
   "cell_type": "code",
   "execution_count": 2,
   "id": "642a5161-403d-4bcf-bb2d-cce0cbc3b30d",
   "metadata": {},
   "outputs": [],
   "source": [
    "from PIL import Image\n",
    "import numpy as np\n",
    "import cv2\n",
    "import pandas as pd\n",
    "import re\n",
    "from collections import Counter\n",
    "import nltk\n",
    "import underthesea\n",
    "from sklearn.feature_extraction.text import TfidfVectorizer\n",
    "from tqdm import tqdm\n",
    "import shutil\n",
    "import transformers\n",
    "import spacy\n",
    "\n",
    "from preprocessing.preprocess import clean_text, translater, gen_prompt\n",
    "DEVICE = \"cuda\""
   ]
  },
  {
   "cell_type": "code",
   "execution_count": 22,
   "id": "3f0d0abd-51b6-4bca-ad2c-3cc036209b6f",
   "metadata": {},
   "outputs": [],
   "source": [
    "TRAIN_PATH  = \"/home/congdc/hdd/Project/data/train/\"\n",
    "INPUT_IMAGES = \"/home/congdc/hdd/Project/data/processed/images_enhanced/\"\n",
    "OUTPUT_IMAGES = \"/home/congdc/hdd/Project/data/processed/images_train/\"\n",
    "OUTPUT_CAPTION = \"/home/congdc/hdd/Project/data/processed/caption_train/\""
   ]
  },
  {
   "cell_type": "code",
   "execution_count": 4,
   "id": "7f2369d0-f02c-4e0f-abc9-1665f28def76",
   "metadata": {},
   "outputs": [],
   "source": [
    "df = pd.read_csv(f\"{TRAIN_PATH}info.csv\")\n",
    "\n",
    "captions = list(df['caption'])\n",
    "description = list(df['description'])\n",
    "moreInfo = list(df['moreInfo'])\n",
    "\n",
    "list_info = zip(captions, description, moreInfo)\n",
    "bannerImage = list(df['bannerImage'])"
   ]
  },
  {
   "cell_type": "markdown",
   "id": "a2486ebb-63c0-49fb-9ee2-0e204440ebc3",
   "metadata": {},
   "source": [
    "# Xử lý dữ liệu"
   ]
  },
  {
   "cell_type": "markdown",
   "id": "4a2dc09d-10d6-4462-b80e-66fa02a39ac5",
   "metadata": {},
   "source": [
    "1. Làm sạch dữ liệu tiếng việt"
   ]
  },
  {
   "cell_type": "code",
   "execution_count": 5,
   "id": "db459022-c124-4260-9150-00c407081532",
   "metadata": {},
   "outputs": [
    {
     "name": "stderr",
     "output_type": "stream",
     "text": [
      "1362it [00:00, 567405.85it/s]\n"
     ]
    }
   ],
   "source": [
    "list_promt_1 = []\n",
    "for info in tqdm(list_info):\n",
    "    cap, desc, m_info = info\n",
    "    promt_clean = clean_text(cap)\n",
    "    list_promt_1.append(promt_clean)"
   ]
  },
  {
   "cell_type": "code",
   "execution_count": 6,
   "id": "c2695d8f-d874-430b-84c6-fa4e73f1109c",
   "metadata": {},
   "outputs": [
    {
     "data": {
      "text/plain": [
       "['áo phủ xe 3 lớp tráng nhôm cách nhiệt, chống thấm nước, bảo vệ xe khỏi lo bẻ trộm gương.',\n",
       " 'mẫu thảm lót sàn mới nhất cho các dòng xe từ 4-7 chỗ. sang trọng, bền đẹp, giảm ồn.',\n",
       " 'tăng độ sang trọng, lịch lãm của xế yêu. với thảm trải sàn ô tô cao cấp 6d.',\n",
       " 'bán lỗ toàn bộ thảm sàn ô tô cao cấp 6d cho xe 5-7-24 chỗ. sạch sang, chống nước, chống ồn',\n",
       " 'bạt phủ xe 3 lớp, chống nắng nóng bụi bẩn, chống nước, chống xước xe, bảo vệ xe toàn diện',\n",
       " 'bạt phủ xe ô tô 3 lớp-chống nắng, chống mưa, chống trộm gương, bảo vệ xe chỉ với 2 phút',\n",
       " 'usb nhạc bolero, trữ tình, nhạc trẻ, remix. lên nhạc với 99% các dòng xe. usb cho ô tô.',\n",
       " 'bạt phủ ô tô cách nhiệt 3 lớp-chống xước xe, chống nắng nóng bụi bẩn, chống thấm nước.',\n",
       " 'chống nóng-chống cháy nổ-chống mưa bụi với bạt phủ xe 3 lớp tráng nhôm phản quang',\n",
       " 'một bộ thảm da lót sàn 6d thật sự  cần thiết cần cho xe 4-7 chỗ. đa năng mà còn tiết kiệm',\n",
       " 'mẫu thảm lót sàn mới cuối năm nay cho các dòng xe từ 4-7 chỗ. sang trọng, dễ vệ sinh',\n",
       " 'đăng ký nhận báo giá ưu đãi 20% sản phẩm thảm sàn ô tô cho xe 4-7 chỗ, xe bán tải.',\n",
       " 'bạt trùm phủ 3 lớp-tráng nhôm phản quang cách nhiệt, chống nước, ngăn bẻ trộm gương.',\n",
       " 'thảm sàn đa năng, không mùi, chống ồn, dễ vệ sinh xả kho 99 bộ thảm dành cho xe 4-7 chỗ',\n",
       " 'đệm hơi ô tô thông minh-giúp bạn và gia đình xua tan mệt mỏi sau nhiều giờ lái xe.',\n",
       " 'xả kho mẫu thảm lót sàn mới nhất cho xe 4-7 chỗ. sang trọng, bền, dễ vệ sinh, chống ồn',\n",
       " 'đi xe phải có nhạc hay mới vui anh ạ! usb sẵn 1200 bài nhạc tuyển chọn 2020. cắm là nghe!',\n",
       " 'bọc ghế da ô tô hà nội, bọc đẹp da cao cấp với đội ngũ kỹ thuật chuyên nghiệp. ưu đãi 15%',\n",
       " 'bọc ghế da ô tô hà nội với thợ tay nghề trên 7 năm kinh nghiệm, êm ái trên mọi nẻo đường',\n",
       " 'cung cấp các loại vỏ ô tô tải và du lịch']"
      ]
     },
     "execution_count": 6,
     "metadata": {},
     "output_type": "execute_result"
    }
   ],
   "source": [
    "list_promt_1[:20]"
   ]
  },
  {
   "cell_type": "markdown",
   "id": "54fcb069-c06f-48ee-8616-1f441fb46cbe",
   "metadata": {},
   "source": [
    "2. Chuyển đổi ngôn ngữ"
   ]
  },
  {
   "cell_type": "code",
   "execution_count": 7,
   "id": "bbe0942f-5426-48fb-8b60-6595bce0bc5d",
   "metadata": {},
   "outputs": [
    {
     "name": "stderr",
     "output_type": "stream",
     "text": [
      "100%|█████████████████████████████████████████████████████████████████████████████████████████████████████████████████████████████████████████| 1362/1362 [03:04<00:00,  7.40it/s]\n"
     ]
    }
   ],
   "source": [
    "list_promt_2 = []\n",
    "for promt in tqdm(list_promt_1):\n",
    "    promt_eng = translater(promt)\n",
    "    list_promt_2.append(promt_eng)"
   ]
  },
  {
   "cell_type": "code",
   "execution_count": 8,
   "id": "f5ae284f-12c8-4467-86ec-16eaf31e195a",
   "metadata": {},
   "outputs": [
    {
     "data": {
      "text/plain": [
       "['3 - ply foil car coating, thermal insulation, waterproof, to protect the car from the risk of stealing the mirrors.',\n",
       " 'The latest floor mats for four-to seven-seater cars, luxurious, durable, noise-reducing.',\n",
       " \"It's a luxury, elegant car with high-end 6D car carpeting.\",\n",
       " 'All-car floor mats, 6d, 5-7-24 seats, clean, water-resistant, noise-resistant.',\n",
       " '3-layer canvas, heat, dirt, water, scratch protection, full coverage']"
      ]
     },
     "execution_count": 8,
     "metadata": {},
     "output_type": "execute_result"
    }
   ],
   "source": [
    "list_promt_2[:5]"
   ]
  },
  {
   "cell_type": "markdown",
   "id": "634b5f82-9beb-42c5-a2cf-12c6318c8acb",
   "metadata": {},
   "source": [
    "3. Gen promt"
   ]
  },
  {
   "cell_type": "code",
   "execution_count": 9,
   "id": "ed7f839f-6854-4c0d-8293-354da41a3af6",
   "metadata": {},
   "outputs": [
    {
     "name": "stderr",
     "output_type": "stream",
     "text": [
      "100%|██████████████████████████████████████████████████████████████████████████████████████████████████████████████████████████████████████| 1362/1362 [00:00<00:00, 78569.65it/s]\n"
     ]
    }
   ],
   "source": [
    "list_promt_3 = []\n",
    "for promt in tqdm(list_promt_2):\n",
    "    promt = gen_prompt(promt)\n",
    "    list_promt_3.append(promt)"
   ]
  },
  {
   "cell_type": "code",
   "execution_count": 10,
   "id": "bfb458fd-0f6c-4b66-a3ba-f51a4b5f8c6e",
   "metadata": {},
   "outputs": [
    {
     "name": "stdout",
     "output_type": "stream",
     "text": [
      "line 0: x ply foil car coating, thermal insulation, waterproof, to protect the car from the risk of stealing the mirrors\n",
      "line 1: the latest floor mats for four to seven seater cars, luxurious, durable, noise reducing\n",
      "line 2: it's a luxury, elegant car with high end x car carpeting\n",
      "line 3: all car floor mats, x, x x seats, clean, water resistant, noise resistant\n",
      "line 4: x layer canvas, heat, dirt, water, scratch protection, full coverage\n"
     ]
    }
   ],
   "source": [
    "for i, promt in enumerate(list_promt_3[:5]):\n",
    "    print(f\"line {i}: {promt}\")"
   ]
  },
  {
   "cell_type": "markdown",
   "id": "ea965d98-8424-4f79-9802-045d7e47eb91",
   "metadata": {},
   "source": [
    "# Lưu kết quả"
   ]
  },
  {
   "cell_type": "code",
   "execution_count": 12,
   "id": "1a974424-2eef-4cc9-830a-f272f7893949",
   "metadata": {},
   "outputs": [],
   "source": [
    "def save_sd_train(name_imgs, list_promt):\n",
    "    for name_img, promt in tqdm(zip(name_imgs, list_promt)):\n",
    "        promt = promt.lower()\n",
    "        \n",
    "        name_img = name_img.replace('.', '_out.')\n",
    "        input_image = f\"{INPUT_IMAGES}{name_img}\"\n",
    "        output_image = input_image.replace(name_img, f\"{promt}.jpg\").replace(INPUT_IMAGES, OUTPUT_IMAGES)\n",
    "        try:\n",
    "            shutil.copy(input_image, output_image)\n",
    "        except:\n",
    "            pass\n",
    "save_sd_train(bannerImages_train, list_promt)"
   ]
  },
  {
   "cell_type": "code",
   "execution_count": 23,
   "id": "5210b1e1-4ae2-41b6-a53d-11d49e54c8fd",
   "metadata": {},
   "outputs": [
    {
     "name": "stderr",
     "output_type": "stream",
     "text": [
      "0it [00:00, ?it/s]\n"
     ]
    },
    {
     "ename": "FileNotFoundError",
     "evalue": "[Errno 2] No such file or directory: '/home/congdc/hdd/Project/data/processed/images_enhanced/3_out.jpg'",
     "output_type": "error",
     "traceback": [
      "\u001b[0;31m---------------------------------------------------------------------------\u001b[0m",
      "\u001b[0;31mFileNotFoundError\u001b[0m                         Traceback (most recent call last)",
      "Cell \u001b[0;32mIn[23], line 20\u001b[0m\n\u001b[1;32m     16\u001b[0m         \u001b[38;5;28;01mwith\u001b[39;00m \u001b[38;5;28mopen\u001b[39m(file_name, \u001b[38;5;124m\"\u001b[39m\u001b[38;5;124mw\u001b[39m\u001b[38;5;124m\"\u001b[39m) \u001b[38;5;28;01mas\u001b[39;00m file:\n\u001b[1;32m     17\u001b[0m             file\u001b[38;5;241m.\u001b[39mwrite(content_to_write)\n\u001b[0;32m---> 20\u001b[0m \u001b[43msave_pixart_train\u001b[49m\u001b[43m(\u001b[49m\u001b[43mbannerImage\u001b[49m\u001b[43m,\u001b[49m\u001b[43m \u001b[49m\u001b[43mlist_promt_3\u001b[49m\u001b[43m)\u001b[49m\n",
      "Cell \u001b[0;32mIn[23], line 11\u001b[0m, in \u001b[0;36msave_pixart_train\u001b[0;34m(name_imgs, list_promt)\u001b[0m\n\u001b[1;32m      9\u001b[0m input_image \u001b[38;5;241m=\u001b[39m \u001b[38;5;124mf\u001b[39m\u001b[38;5;124m\"\u001b[39m\u001b[38;5;132;01m{\u001b[39;00mINPUT_IMAGES\u001b[38;5;132;01m}\u001b[39;00m\u001b[38;5;132;01m{\u001b[39;00mname_img_enhance\u001b[38;5;132;01m}\u001b[39;00m\u001b[38;5;124m\"\u001b[39m\n\u001b[1;32m     10\u001b[0m output_image \u001b[38;5;241m=\u001b[39m input_image\u001b[38;5;241m.\u001b[39mreplace(INPUT_IMAGES, OUTPUT_IMAGES)\n\u001b[0;32m---> 11\u001b[0m \u001b[43mshutil\u001b[49m\u001b[38;5;241;43m.\u001b[39;49m\u001b[43mcopy\u001b[49m\u001b[43m(\u001b[49m\u001b[43minput_image\u001b[49m\u001b[43m,\u001b[49m\u001b[43m \u001b[49m\u001b[43moutput_image\u001b[49m\u001b[43m)\u001b[49m\n\u001b[1;32m     13\u001b[0m \u001b[38;5;66;03m# caption \u001b[39;00m\n\u001b[1;32m     14\u001b[0m name_caption \u001b[38;5;241m=\u001b[39m name_img\u001b[38;5;241m.\u001b[39msplit(\u001b[38;5;124m\"\u001b[39m\u001b[38;5;124m.\u001b[39m\u001b[38;5;124m\"\u001b[39m)[\u001b[38;5;241m0\u001b[39m] \u001b[38;5;241m+\u001b[39m \u001b[38;5;124m\"\u001b[39m\u001b[38;5;124m.txt\u001b[39m\u001b[38;5;124m\"\u001b[39m\n",
      "File \u001b[0;32m~/hdd/.environment/miniconda3/envs/zalo-ai/lib/python3.10/shutil.py:417\u001b[0m, in \u001b[0;36mcopy\u001b[0;34m(src, dst, follow_symlinks)\u001b[0m\n\u001b[1;32m    415\u001b[0m \u001b[38;5;28;01mif\u001b[39;00m os\u001b[38;5;241m.\u001b[39mpath\u001b[38;5;241m.\u001b[39misdir(dst):\n\u001b[1;32m    416\u001b[0m     dst \u001b[38;5;241m=\u001b[39m os\u001b[38;5;241m.\u001b[39mpath\u001b[38;5;241m.\u001b[39mjoin(dst, os\u001b[38;5;241m.\u001b[39mpath\u001b[38;5;241m.\u001b[39mbasename(src))\n\u001b[0;32m--> 417\u001b[0m \u001b[43mcopyfile\u001b[49m\u001b[43m(\u001b[49m\u001b[43msrc\u001b[49m\u001b[43m,\u001b[49m\u001b[43m \u001b[49m\u001b[43mdst\u001b[49m\u001b[43m,\u001b[49m\u001b[43m \u001b[49m\u001b[43mfollow_symlinks\u001b[49m\u001b[38;5;241;43m=\u001b[39;49m\u001b[43mfollow_symlinks\u001b[49m\u001b[43m)\u001b[49m\n\u001b[1;32m    418\u001b[0m copymode(src, dst, follow_symlinks\u001b[38;5;241m=\u001b[39mfollow_symlinks)\n\u001b[1;32m    419\u001b[0m \u001b[38;5;28;01mreturn\u001b[39;00m dst\n",
      "File \u001b[0;32m~/hdd/.environment/miniconda3/envs/zalo-ai/lib/python3.10/shutil.py:254\u001b[0m, in \u001b[0;36mcopyfile\u001b[0;34m(src, dst, follow_symlinks)\u001b[0m\n\u001b[1;32m    252\u001b[0m     os\u001b[38;5;241m.\u001b[39msymlink(os\u001b[38;5;241m.\u001b[39mreadlink(src), dst)\n\u001b[1;32m    253\u001b[0m \u001b[38;5;28;01melse\u001b[39;00m:\n\u001b[0;32m--> 254\u001b[0m     \u001b[38;5;28;01mwith\u001b[39;00m \u001b[38;5;28;43mopen\u001b[39;49m\u001b[43m(\u001b[49m\u001b[43msrc\u001b[49m\u001b[43m,\u001b[49m\u001b[43m \u001b[49m\u001b[38;5;124;43m'\u001b[39;49m\u001b[38;5;124;43mrb\u001b[39;49m\u001b[38;5;124;43m'\u001b[39;49m\u001b[43m)\u001b[49m \u001b[38;5;28;01mas\u001b[39;00m fsrc:\n\u001b[1;32m    255\u001b[0m         \u001b[38;5;28;01mtry\u001b[39;00m:\n\u001b[1;32m    256\u001b[0m             \u001b[38;5;28;01mwith\u001b[39;00m \u001b[38;5;28mopen\u001b[39m(dst, \u001b[38;5;124m'\u001b[39m\u001b[38;5;124mwb\u001b[39m\u001b[38;5;124m'\u001b[39m) \u001b[38;5;28;01mas\u001b[39;00m fdst:\n\u001b[1;32m    257\u001b[0m                 \u001b[38;5;66;03m# macOS\u001b[39;00m\n",
      "\u001b[0;31mFileNotFoundError\u001b[0m: [Errno 2] No such file or directory: '/home/congdc/hdd/Project/data/processed/images_enhanced/3_out.jpg'"
     ]
    }
   ],
   "source": [
    "def save_pixart_train(name_imgs, list_promt):\n",
    "    os.makedirs(OUTPUT_CAPTION, exist_ok = True)\n",
    "    for name_img, promt in tqdm(zip(name_imgs, list_promt)):\n",
    "        promt = promt.lower()\n",
    "        \n",
    "        name_img_enhance = name_img.replace('.', '_out.')\n",
    "\n",
    "        # image\n",
    "        input_image = f\"{INPUT_IMAGES}{name_img_enhance}\"\n",
    "        output_image = input_image.replace(INPUT_IMAGES, OUTPUT_IMAGES)\n",
    "        shutil.copy(input_image, output_image)\n",
    "\n",
    "        # caption \n",
    "        name_caption = name_img.split(\".\")[0] + \".txt\"\n",
    "        caption_path  = f\"{OUTPUT_CAPTION}{name_caption}\"\n",
    "        with open(file_name, \"w\") as file:\n",
    "            file.write(content_to_write)\n",
    "\n",
    "        \n",
    "save_pixart_train(bannerImage, list_promt_3)"
   ]
  },
  {
   "cell_type": "markdown",
   "id": "f0a0fd38-2ef9-47b4-9b39-899f4a5e040f",
   "metadata": {},
   "source": [
    "test"
   ]
  },
  {
   "cell_type": "code",
   "execution_count": null,
   "id": "fa7c4221-2d61-4c65-9897-7ddaed6429c7",
   "metadata": {},
   "outputs": [],
   "source": [
    "from transformers import AutoTokenizer, AutoModelForTokenClassification\n",
    "from transformers import pipeline\n",
    "\n",
    "tokenizer = AutoTokenizer.from_pretrained(\"NlpHUST/ner-vietnamese-electra-base\")\n",
    "model = AutoModelForTokenClassification.from_pretrained(\"NlpHUST/ner-vietnamese-electra-base\")\n",
    "\n",
    "nlp = pipeline(\"ner\", model=model, tokenizer=tokenizer)\n",
    "example = \"Liên quan vụ việc CSGT bị tố đánh dân, trúng một cháu nhỏ đang ngủ, đang lan truyền trên mạng xã hội, Đại tá Nguyễn Văn Tảo, Phó Giám đốc Công an tỉnh Tiền Giang vừa có cuộc họp cùng Chỉ huy Công an huyện Châu Thành và một số đơn vị nghiệp vụ cấp tỉnh để chỉ đạo làm rõ thông tin.\"\n",
    "\n",
    "ner_results = nlp(example)\n",
    "print(ner_results)"
   ]
  },
  {
   "cell_type": "code",
   "execution_count": null,
   "id": "aebabb0c-7cb4-4cb7-adc2-c36389668c2f",
   "metadata": {},
   "outputs": [],
   "source": [
    "# nlp = spacy.load(\"en_core_web_sm\")"
   ]
  }
 ],
 "metadata": {
  "kernelspec": {
   "display_name": "Python 3 (ipykernel)",
   "language": "python",
   "name": "python3"
  },
  "language_info": {
   "codemirror_mode": {
    "name": "ipython",
    "version": 3
   },
   "file_extension": ".py",
   "mimetype": "text/x-python",
   "name": "python",
   "nbconvert_exporter": "python",
   "pygments_lexer": "ipython3",
   "version": "3.10.0"
  }
 },
 "nbformat": 4,
 "nbformat_minor": 5
}
